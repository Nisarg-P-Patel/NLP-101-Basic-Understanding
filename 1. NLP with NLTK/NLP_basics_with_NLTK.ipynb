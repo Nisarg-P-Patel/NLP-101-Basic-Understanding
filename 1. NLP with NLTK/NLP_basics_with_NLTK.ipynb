{
  "cells": [
    {
      "cell_type": "code",
      "execution_count": null,
      "metadata": {
        "id": "v4FYNH7XawVi"
      },
      "outputs": [],
      "source": [
        "# Importing necessary libraries\n",
        "\n",
        "import nltk\n",
        "from nltk.corpus import stopwords\n",
        "from nltk.stem import PorterStemmer\n",
        "import pandas as pd\n",
        "import matplotlib.pyplot as plt"
      ]
    },
    {
      "cell_type": "code",
      "execution_count": null,
      "metadata": {
        "id": "dv_LAagIawVl",
        "outputId": "b693bf45-9069-4796-80ac-6705e656817d"
      },
      "outputs": [
        {
          "data": {
            "text/plain": [
              "'\\n\\ndocument1=\\'Hello,How are you?\\'\\ndocument2=\\'I\"m fine and what about you?\\'\\ndocument3=\\'All good. I\"m glad to know you are also fine.\\'\\ndocument4=\\'I\"m always fine and fit. By the way, how are you doing in your academics?\\'\\ndocument5=\\'Not stable as I\"m also preparing for Master\"s.\\'\\n\\n'"
            ]
          },
          "execution_count": 2,
          "metadata": {},
          "output_type": "execute_result"
        }
      ],
      "source": [
        "# making documents(strings) to perform pre-processing\n",
        "\n",
        "document1='Hello,How are you?'\n",
        "document2='I\"m fine and what about you?'\n",
        "document3='All good. I\"m glad to know you are also fine.'\n",
        "document4='I\"m always fine and fit. By the way, how are you doing in your academics?'\n",
        "document5='Not stable as I\"m also preparing for Master\"s.'\n"
      ]
    },
    {
      "cell_type": "code",
      "execution_count": null,
      "metadata": {
        "id": "LcI35rxLawVm"
      },
      "outputs": [],
      "source": [
        "document1='The Natural Language Toolkit (NLTK) is a platform used for building Python programs that work with human language data for applying in statistical natural language processing (NLP).It contains text processing libraries for tokenization, parsing, classification, stemming, tagging and semantic reasoning.'\n",
        "document2='It also includes graphical demonstrations and sample data sets as well as accompanied by a cook book and a book which explains the principles behind the underlying language processing tasks that NLTK supports.'\n",
        "document3='The Natural Language Toolkit is an open source library for the Python programming language originally written by Steven Bird, Edward Loper and Ewan Klein for use in development and education.'\n",
        "document4='It comes with a hands-on guide that introduces topics in computational linguistics as well as programming fundamentals for Python which makes it suitable for linguists who have no deep knowledge in programming, engineers and researchers that need to delve into computational linguistics, students and educators.'\n",
        "document5='NLTK includes more than 50 corpora and lexical sources such as the Penn Treebank Corpus, Open Multilingual Wordnet, Problem Report Corpus, and Lin’s Dependency Thesaurus.'"
      ]
    },
    {
      "cell_type": "code",
      "execution_count": null,
      "metadata": {
        "id": "yeQWKAnSawVz",
        "outputId": "a4cb06e0-3ef6-47e1-d22c-e02588afdf4c"
      },
      "outputs": [
        {
          "name": "stdout",
          "output_type": "stream",
          "text": [
            "[['NLP', 'contains', 'is', 'that', 'in', 'The', 'parsing', ')', 'data', '.', '(', 'statistical', 'applying', 'building', 'Language', 'platform', 'work', 'Toolkit', 'for', 'text', 'reasoning', 'NLTK', 'and', 'tokenization', 'with', 'classification', 'language', 'processing', ',', 'stemming', 'human', 'tagging', '.It', 'Python', 'natural', 'libraries', 'Natural', 'a', 'used', 'programs', 'semantic'], ['It', 'demonstrations', 'that', 'as', 'behind', 'data', 'explains', '.', 'includes', 'by', 'principles', 'NLTK', 'cook', 'graphical', 'also', 'and', 'well', 'tasks', 'the', 'which', 'language', 'processing', 'sets', 'sample', 'accompanied', 'book', 'a', 'underlying', 'supports'], ['source', 'is', 'Klein', 'education', 'originally', 'in', 'Bird', 'The', '.', 'by', 'use', 'Language', 'written', 'Toolkit', 'for', 'Steven', 'development', 'an', 'and', 'Ewan', 'programming', 'the', 'Edward', 'language', ',', 'open', 'Loper', 'Python', 'Natural', 'library'], ['It', 'topics', 'comes', 'suitable', 'that', 'as', 'into', 'knowledge', 'guide', 'computational', 'in', 'no', '.', 'have', 'students', 'researchers', 'hands-on', 'for', 'engineers', 'linguists', 'introduces', 'to', 'and', 'well', 'linguistics', 'programming', 'with', 'it', 'fundamentals', 'who', 'which', 'makes', 'educators', 'deep', ',', 'Python', 'a', 'need', 'delve'], ['Penn', 'as', '50', 'more', 'Open', 'than', '.', 'Lin', 'includes', 'Corpus', 'NLTK', 'Problem', 's', 'Thesaurus', 'and', 'Dependency', 'the', 'Multilingual', '’', ',', 'corpora', 'Report', 'lexical', 'sources', 'such', 'Treebank', 'Wordnet']]\n"
          ]
        }
      ],
      "source": [
        "# tokenize the documents\n",
        "\n",
        "tokenized_document=[]\n",
        "for x in range(1,6):\n",
        "    tokenized_document.append(list(set(nltk.word_tokenize(eval('document{}'.format(x))))))\n",
        "\n",
        "print(tokenized_document)"
      ]
    },
    {
      "cell_type": "code",
      "execution_count": null,
      "metadata": {
        "id": "QP6xmtIHawVz",
        "outputId": "0f40e87e-e8a3-4870-d743-3271ad9fbe3e"
      },
      "outputs": [
        {
          "name": "stdout",
          "output_type": "stream",
          "text": [
            "[['nlp', 'contains', 'is', 'that', 'in', 'the', 'parsing', ')', 'data', '.', '(', 'statistical', 'applying', 'building', 'language', 'platform', 'work', 'toolkit', 'for', 'text', 'reasoning', 'nltk', 'and', 'tokenization', 'with', 'classification', 'language', 'processing', ',', 'stemming', 'human', 'tagging', '.it', 'python', 'natural', 'libraries', 'natural', 'a', 'used', 'programs', 'semantic'], ['it', 'demonstrations', 'that', 'as', 'behind', 'data', 'explains', '.', 'includes', 'by', 'principles', 'nltk', 'cook', 'graphical', 'also', 'and', 'well', 'tasks', 'the', 'which', 'language', 'processing', 'sets', 'sample', 'accompanied', 'book', 'a', 'underlying', 'supports'], ['source', 'is', 'klein', 'education', 'originally', 'in', 'bird', 'the', '.', 'by', 'use', 'language', 'written', 'toolkit', 'for', 'steven', 'development', 'an', 'and', 'ewan', 'programming', 'the', 'edward', 'language', ',', 'open', 'loper', 'python', 'natural', 'library'], ['it', 'topics', 'comes', 'suitable', 'that', 'as', 'into', 'knowledge', 'guide', 'computational', 'in', 'no', '.', 'have', 'students', 'researchers', 'hands-on', 'for', 'engineers', 'linguists', 'introduces', 'to', 'and', 'well', 'linguistics', 'programming', 'with', 'it', 'fundamentals', 'who', 'which', 'makes', 'educators', 'deep', ',', 'python', 'a', 'need', 'delve'], ['penn', 'as', '50', 'more', 'open', 'than', '.', 'lin', 'includes', 'corpus', 'nltk', 'problem', 's', 'thesaurus', 'and', 'dependency', 'the', 'multilingual', '’', ',', 'corpora', 'report', 'lexical', 'sources', 'such', 'treebank', 'wordnet']]\n"
          ]
        }
      ],
      "source": [
        "# lowercase conversion of tokens\n",
        "\n",
        "for x in range(0,5):\n",
        "    tokenized_document[x]=[y.lower() for y in tokenized_document[x]]\n",
        "\n",
        "print(tokenized_document)"
      ]
    },
    {
      "cell_type": "code",
      "execution_count": null,
      "metadata": {
        "id": "FU1hqET6awV0",
        "outputId": "ab11aea7-9fdf-4875-d0ae-0a16ca0908a1"
      },
      "outputs": [
        {
          "name": "stdout",
          "output_type": "stream",
          "text": [
            "[['nlp', 'contains', 'parsing', ')', 'data', '(', 'statistical', 'applying', 'building', 'language', 'platform', 'work', 'toolkit', 'text', 'reasoning', 'nltk', 'tokenization', 'classification', 'language', 'processing', 'stemming', 'human', 'tagging', '.it', 'python', 'natural', 'libraries', 'natural', 'used', 'programs', 'semantic'], ['demonstrations', 'behind', 'data', 'explains', 'includes', 'principles', 'nltk', 'cook', 'graphical', 'also', 'well', 'tasks', 'language', 'processing', 'sets', 'sample', 'accompanied', 'book', 'underlying', 'supports'], ['source', 'klein', 'education', 'originally', 'bird', 'use', 'language', 'written', 'toolkit', 'steven', 'development', 'ewan', 'programming', 'the', 'edward', 'language', 'open', 'loper', 'python', 'natural', 'library'], ['topics', 'comes', 'suitable', 'knowledge', 'guide', 'computational', 'students', 'researchers', 'hands-on', 'engineers', 'linguists', 'introduces', 'well', 'linguistics', 'programming', 'it', 'fundamentals', 'makes', 'educators', 'deep', 'python', 'need', 'delve'], ['penn', '50', 'open', 'lin', 'includes', 'corpus', 'nltk', 'problem', 'thesaurus', 'dependency', 'multilingual', '’', 'corpora', 'report', 'lexical', 'sources', 'treebank', 'wordnet']]\n"
          ]
        }
      ],
      "source": [
        "# removing stop words from documents\n",
        "\n",
        "stop_words=stopwords.words('english')\n",
        "stop_words.extend([',','?','\"\"',\"''\",'.'])\n",
        "# print(stop_words)\n",
        "\n",
        "for x in stop_words:\n",
        "    for y in range(0,5):\n",
        "        if x in tokenized_document[y]:\n",
        "            tokenized_document[y].remove(x)\n",
        "\n",
        "print(tokenized_document)"
      ]
    },
    {
      "cell_type": "code",
      "execution_count": null,
      "metadata": {
        "id": "MlG6eq44awV0",
        "outputId": "1f35d547-ef2d-4c3f-ad32-a93032ec259c"
      },
      "outputs": [
        {
          "name": "stdout",
          "output_type": "stream",
          "text": [
            "[['nlp', 'contain', 'pars', ')', 'data', '(', 'statist', 'appli', 'build', 'languag', 'platform', 'work', 'toolkit', 'text', 'reason', 'nltk', 'token', 'classif', 'languag', 'process', 'stem', 'human', 'tag', '.it', 'python', 'natur', 'librari', 'natur', 'use', 'program', 'semant'], ['demonstr', 'behind', 'data', 'explain', 'includ', 'principl', 'nltk', 'cook', 'graphic', 'also', 'well', 'task', 'languag', 'process', 'set', 'sampl', 'accompani', 'book', 'underli', 'support'], ['sourc', 'klein', 'educ', 'origin', 'bird', 'use', 'languag', 'written', 'toolkit', 'steven', 'develop', 'ewan', 'program', 'the', 'edward', 'languag', 'open', 'loper', 'python', 'natur', 'librari'], ['topic', 'come', 'suitabl', 'knowledg', 'guid', 'comput', 'student', 'research', 'hands-on', 'engin', 'linguist', 'introduc', 'well', 'linguist', 'program', 'it', 'fundament', 'make', 'educ', 'deep', 'python', 'need', 'delv'], ['penn', '50', 'open', 'lin', 'includ', 'corpu', 'nltk', 'problem', 'thesauru', 'depend', 'multilingu', '’', 'corpora', 'report', 'lexic', 'sourc', 'treebank', 'wordnet']]\n"
          ]
        }
      ],
      "source": [
        "# performing stemming after removing stop words\n",
        "\n",
        "stemmed_document=tokenized_document\n",
        "ps = PorterStemmer()\n",
        "for x in range(0,5):\n",
        "    stemmed_document[x]=[ps.stem(y) for y in tokenized_document[x]]\n",
        "\n",
        "print(stemmed_document)"
      ]
    },
    {
      "cell_type": "code",
      "execution_count": null,
      "metadata": {
        "id": "ZLb4S5jTawV1",
        "outputId": "f791de25-e142-4d5d-9037-1c21c74f5898"
      },
      "outputs": [
        {
          "name": "stdout",
          "output_type": "stream",
          "text": [
            "['support', 'stem', 'behind', '(', 'hands-on', 'written', 'contain', 'engin', 'toolkit', 'ewan', 'introduc', 'treebank', 'also', 'wordnet', 'languag', 'origin', 'bird', 'topic', 'guid', 'need', 'loper', 'underli', 'program', 'student', 'natur', ')', 'comput', 'lexic', '.it', 'use', 'work', 'text', 'semant', 'research', 'nlp', 'librari', 'delv', 'tag', 'includ', 'the', 'deep', 'report', 'book', 'corpu', 'statist', 'reason', 'sampl', 'appli', 'pars', 'multilingu', 'penn', 'task', 'data', 'nltk', 'fundament', 'classif', 'klein', 'principl', 'build', 'token', 'thesauru', 'knowledg', 'python', 'human', 'linguist', 'demonstr', 'develop', 'problem', 'set', 'suitabl', 'accompani', 'make', '50', 'edward', 'depend', 'graphic', 'platform', 'explain', 'cook', 'well', 'educ', 'sourc', 'it', '’', 'come', 'open', 'corpora', 'process', 'steven', 'lin']\n"
          ]
        }
      ],
      "source": [
        "# collecting distinct words in the saperate list\n",
        "\n",
        "total_words=[]\n",
        "for x in range(0,5):\n",
        "    temp=[y for y in stemmed_document[x]]\n",
        "    total_words.extend(temp)\n",
        "\n",
        "total_words=list(set(total_words))\n",
        "\n",
        "print(total_words)"
      ]
    },
    {
      "cell_type": "code",
      "execution_count": null,
      "metadata": {
        "id": "Lui6bw-BawV1",
        "outputId": "071a1e07-089a-43ba-bf3c-362c6b95591f"
      },
      "outputs": [
        {
          "name": "stdout",
          "output_type": "stream",
          "text": [
            "\t\t support \tstem \tbehind \t( \thands-on \twritten \tcontain \tengin \ttoolkit \tewan \tintroduc \ttreebank \talso \twordnet \tlanguag \torigin \tbird \ttopic \tguid \tneed \tloper \tunderli \tprogram \tstudent \tnatur \t) \tcomput \tlexic \t.it \tuse \twork \ttext \tsemant \tresearch \tnlp \tlibrari \tdelv \ttag \tinclud \tthe \tdeep \treport \tbook \tcorpu \tstatist \treason \tsampl \tappli \tpars \tmultilingu \tpenn \ttask \tdata \tnltk \tfundament \tclassif \tklein \tprincipl \tbuild \ttoken \tthesauru \tknowledg \tpython \thuman \tlinguist \tdemonstr \tdevelop \tproblem \tset \tsuitabl \taccompani \tmake \t50 \tedward \tdepend \tgraphic \tplatform \texplain \tcook \twell \teduc \tsourc \tit \t’ \tcome \topen \tcorpora \tprocess \tsteven \tlin \t\n",
            "document1\t0\t1\t0\t1\t0\t0\t1\t0\t1\t0\t0\t0\t0\t0\t1\t0\t0\t0\t0\t0\t0\t0\t1\t0\t1\t1\t0\t0\t1\t1\t1\t1\t1\t0\t1\t1\t0\t1\t0\t0\t0\t0\t0\t0\t1\t1\t0\t1\t1\t0\t0\t0\t1\t1\t0\t1\t0\t0\t1\t1\t0\t0\t1\t1\t0\t0\t0\t0\t0\t0\t0\t0\t0\t0\t0\t0\t1\t0\t0\t0\t0\t0\t0\t0\t0\t0\t0\t1\t0\t0\t\n",
            "document2\t1\t0\t1\t0\t0\t0\t0\t0\t0\t0\t0\t0\t1\t0\t1\t0\t0\t0\t0\t0\t0\t1\t0\t0\t0\t0\t0\t0\t0\t0\t0\t0\t0\t0\t0\t0\t0\t0\t1\t0\t0\t0\t1\t0\t0\t0\t1\t0\t0\t0\t0\t1\t1\t1\t0\t0\t0\t1\t0\t0\t0\t0\t0\t0\t0\t1\t0\t0\t1\t0\t1\t0\t0\t0\t0\t1\t0\t1\t1\t1\t0\t0\t0\t0\t0\t0\t0\t1\t0\t0\t\n",
            "document3\t0\t0\t0\t0\t0\t1\t0\t0\t1\t1\t0\t0\t0\t0\t1\t1\t1\t0\t0\t0\t1\t0\t1\t0\t1\t0\t0\t0\t0\t1\t0\t0\t0\t0\t0\t1\t0\t0\t0\t1\t0\t0\t0\t0\t0\t0\t0\t0\t0\t0\t0\t0\t0\t0\t0\t0\t1\t0\t0\t0\t0\t0\t1\t0\t0\t0\t1\t0\t0\t0\t0\t0\t0\t1\t0\t0\t0\t0\t0\t0\t1\t1\t0\t0\t0\t1\t0\t0\t1\t0\t\n",
            "document4\t0\t0\t0\t0\t1\t0\t0\t1\t0\t0\t1\t0\t0\t0\t0\t0\t0\t1\t1\t1\t0\t0\t1\t1\t0\t0\t1\t0\t0\t0\t0\t0\t0\t1\t0\t0\t1\t0\t0\t0\t1\t0\t0\t0\t0\t0\t0\t0\t0\t0\t0\t0\t0\t0\t1\t0\t0\t0\t0\t0\t0\t1\t1\t0\t1\t0\t0\t0\t0\t1\t0\t1\t0\t0\t0\t0\t0\t0\t0\t1\t1\t0\t1\t0\t1\t0\t0\t0\t0\t0\t\n",
            "document5\t0\t0\t0\t0\t0\t0\t0\t0\t0\t0\t0\t1\t0\t1\t0\t0\t0\t0\t0\t0\t0\t0\t0\t0\t0\t0\t0\t1\t0\t0\t0\t0\t0\t0\t0\t0\t0\t0\t1\t0\t0\t1\t0\t1\t0\t0\t0\t0\t0\t1\t1\t0\t0\t1\t0\t0\t0\t0\t0\t0\t1\t0\t0\t0\t0\t0\t0\t1\t0\t0\t0\t0\t1\t0\t1\t0\t0\t0\t0\t0\t0\t1\t0\t1\t0\t1\t1\t0\t0\t1\t\n"
          ]
        }
      ],
      "source": [
        "# making matrix of word-document relation\n",
        "\n",
        "relation=[]\n",
        "print(\"\\t\\t\",end=\" \")\n",
        "for x in total_words:\n",
        "    print(x+\" \",end=\"\\t\")\n",
        "print()\n",
        "for x in range(0,5):\n",
        "    print('document{}'.format(x+1),end=\"\\t\")\n",
        "    temp=[]\n",
        "    for element in total_words:\n",
        "        if element in stemmed_document[x]:\n",
        "            temp.extend([1])\n",
        "            print(\"1\",end=\"\\t\")\n",
        "        else:\n",
        "            temp.extend([0])\n",
        "            print(\"0\",end=\"\\t\")\n",
        "    print()\n",
        "    relation.append(temp)\n",
        "\n",
        "# prinr(relation)"
      ]
    },
    {
      "cell_type": "code",
      "execution_count": null,
      "metadata": {
        "id": "dXnWX07sawV1",
        "outputId": "f2a29f2a-9b33-4c23-b084-8e4bc0a9d1b3"
      },
      "outputs": [
        {
          "name": "stdout",
          "output_type": "stream",
          "text": [
            "[29, 20, 20, 22, 18]\n",
            "support   1\tstem   1\tbehind   1\t(   1\thands-on   1\twritten   1\tcontain   1\tengin   1\ttoolkit   2\tewan   1\tintroduc   1\ttreebank   1\talso   1\twordnet   1\tlanguag   3\torigin   1\tbird   1\ttopic   1\tguid   1\tneed   1\tloper   1\tunderli   1\tprogram   3\tstudent   1\tnatur   2\t)   1\tcomput   1\tlexic   1\t.it   1\tuse   2\twork   1\ttext   1\tsemant   1\tresearch   1\tnlp   1\tlibrari   2\tdelv   1\ttag   1\tinclud   2\tthe   1\tdeep   1\treport   1\tbook   1\tcorpu   1\tstatist   1\treason   1\tsampl   1\tappli   1\tpars   1\tmultilingu   1\tpenn   1\ttask   1\tdata   2\tnltk   3\tfundament   1\tclassif   1\tklein   1\tprincipl   1\tbuild   1\ttoken   1\tthesauru   1\tknowledg   1\tpython   3\thuman   1\tlinguist   1\tdemonstr   1\tdevelop   1\tproblem   1\tset   1\tsuitabl   1\taccompani   1\tmake   1\t50   1\tedward   1\tdepend   1\tgraphic   1\tplatform   1\texplain   1\tcook   1\twell   2\teduc   2\tsourc   2\tit   1\t’   1\tcome   1\topen   2\tcorpora   1\tprocess   2\tsteven   1\tlin   1\t"
          ]
        }
      ],
      "source": [
        "# Represent term frequencies for each unique words\n",
        "\n",
        "freq=total_words[:]\n",
        "for x in range(len(total_words)):\n",
        "    freq[x]=[row[x] for row in relation].count(1)\n",
        "# print(freq)\n",
        "\n",
        "document_count=[]\n",
        "for x in relation:\n",
        "    document_count.extend([x.count(1)])\n",
        "print(document_count)\n",
        "\n",
        "for x in range(len(total_words)):\n",
        "        print(total_words[x],\" \",str(freq[x]),end=\"\\t\")"
      ]
    },
    {
      "cell_type": "code",
      "execution_count": null,
      "metadata": {
        "id": "z5JItcMLawV2",
        "outputId": "35204ef8-32ac-4d0c-e41c-7fd8f1cf177b"
      },
      "outputs": [
        {
          "data": {
            "image/png": "[encoded data removed]",
            "text/plain": [
              "<Figure size 864x576 with 1 Axes>"
            ]
          },
          "metadata": {
            "needs_background": "light"
          },
          "output_type": "display_data"
        }
      ],
      "source": [
        "# visualize the data using histogram\n",
        "# Plot word frequencies\n",
        "\n",
        "freq_series = pd.Series(freq)\n",
        "\n",
        "y_labels = total_words[:]\n",
        "\n",
        "# Plot the figure.\n",
        "plt.figure(figsize=(12, 8))\n",
        "ax = freq_series.plot(kind='barh')\n",
        "ax.set_title('Words - Frequency')\n",
        "ax.set_xlabel('Frequency')\n",
        "ax.set_ylabel('Words')\n",
        "ax.set_yticklabels(y_labels)\n",
        "ax.set_xlim(min(freq)-2,max(freq)+1) # expand xlim to make labels easier to read\n",
        "\n",
        "rects = ax.patches"
      ]
    },
    {
      "cell_type": "code",
      "execution_count": null,
      "metadata": {
        "id": "65qpsK8nawV2",
        "outputId": "77a3b07b-cde5-4106-c873-c2b31fb991d7"
      },
      "outputs": [
        {
          "data": {
            "image/png": "[encoded data removed]",
            "text/plain": [
              "<Figure size 432x288 with 1 Axes>"
            ]
          },
          "metadata": {
            "needs_background": "light"
          },
          "output_type": "display_data"
        }
      ],
      "source": [
        "# visualize the documnet using histogram\n",
        "\n",
        "freq_series = pd.Series(document_count)\n",
        "\n",
        "y_labels = [('document{}'.format(x)) for x in range(1,6)]\n",
        "\n",
        "# Plot the figure.\n",
        "# plt.figure(figsize=(12, 8))\n",
        "ax = freq_series.plot(kind='barh')\n",
        "ax.set_title('document - Frequency')\n",
        "ax.set_xlabel('Frequency')\n",
        "ax.set_ylabel('documnet')\n",
        "ax.set_yticklabels(y_labels)\n",
        "ax.set_xlim(min(document_count)-2,max(document_count)+2) # expand xlim to make labels easier to read\n",
        "\n",
        "rects = ax.patches"
      ]
    },
    {
      "cell_type": "code",
      "execution_count": null,
      "metadata": {
        "id": "diNzvrzEawV2"
      },
      "outputs": [],
      "source": []
    }
  ],
  "metadata": {
    "kernelspec": {
      "display_name": "Python 3",
      "language": "python",
      "name": "python3"
    },
    "language_info": {
      "codemirror_mode": {
        "name": "ipython",
        "version": 3
      },
      "file_extension": ".py",
      "mimetype": "text/x-python",
      "name": "python",
      "nbconvert_exporter": "python",
      "pygments_lexer": "ipython3",
      "version": "3.7.6"
    },
    "colab": {
      "provenance": []
    }
  },
  "nbformat": 4,
  "nbformat_minor": 0
}