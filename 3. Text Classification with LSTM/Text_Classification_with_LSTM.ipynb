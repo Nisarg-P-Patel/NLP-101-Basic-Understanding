{
  "cells": [
    {
      "cell_type": "code",
      "source": [
        "# kaggle data: https://www.kaggle.com/datasets/jbencina/department-of-justice-20092018-press-releases"
      ],
      "metadata": {
        "id": "Wcxr9pyDdOUE"
      },
      "execution_count": null,
      "outputs": []
    },
    {
      "cell_type": "code",
      "execution_count": null,
      "metadata": {
        "colab": {
          "base_uri": "https://localhost:8080/"
        },
        "id": "-YpVEODMdeCD",
        "outputId": "afd47a41-762f-4c7e-fd8f-6cf13ead4eee"
      },
      "outputs": [
        {
          "name": "stdout",
          "output_type": "stream",
          "text": [
            "[nltk_data] Downloading package stopwords to /root/nltk_data...\n",
            "[nltk_data]   Package stopwords is already up-to-date!\n",
            "[nltk_data] Downloading package punkt to /root/nltk_data...\n",
            "[nltk_data]   Package punkt is already up-to-date!\n"
          ]
        },
        {
          "data": {
            "text/plain": [
              "True"
            ]
          },
          "execution_count": 1,
          "metadata": {
            "tags": []
          },
          "output_type": "execute_result"
        }
      ],
      "source": [
        "import pandas as pd\n",
        "import numpy as np\n",
        "import nltk\n",
        "from sklearn.feature_extraction.text import TfidfVectorizer\n",
        "from sklearn.model_selection import train_test_split\n",
        "from tensorflow.keras.layers import LSTM,Dense,Dropout,Embedding\n",
        "import tensorflow as tf\n",
        "from tensorflow.keras import Sequential\n",
        "nltk.download('stopwords')\n",
        "nltk.download('punkt')"
      ]
    },
    {
      "cell_type": "code",
      "execution_count": null,
      "metadata": {
        "colab": {
          "base_uri": "https://localhost:8080/"
        },
        "id": "BDMMLoWQdzNT",
        "outputId": "4a6da7d2-6b87-4627-da46-4b6ba69b5e6f"
      },
      "outputs": [
        {
          "name": "stdout",
          "output_type": "stream",
          "text": [
            "Drive already mounted at /content/drive; to attempt to forcibly remount, call drive.mount(\"/content/drive\", force_remount=True).\n"
          ]
        }
      ],
      "source": [
        "from google.colab import drive\n",
        "drive.mount('/content/drive')\n"
      ]
    },
    {
      "cell_type": "code",
      "execution_count": null,
      "metadata": {
        "colab": {
          "base_uri": "https://localhost:8080/",
          "height": 204
        },
        "id": "a6eAYMUWi8pa",
        "outputId": "e89bc323-1c83-426b-c429-75de697780ec"
      },
      "outputs": [
        {
          "data": {
            "text/html": [
              "<div>\n",
              "<style scoped>\n",
              "    .dataframe tbody tr th:only-of-type {\n",
              "        vertical-align: middle;\n",
              "    }\n",
              "\n",
              "    .dataframe tbody tr th {\n",
              "        vertical-align: top;\n",
              "    }\n",
              "\n",
              "    .dataframe thead th {\n",
              "        text-align: right;\n",
              "    }\n",
              "</style>\n",
              "<table border=\"1\" class=\"dataframe\">\n",
              "  <thead>\n",
              "    <tr style=\"text-align: right;\">\n",
              "      <th></th>\n",
              "      <th>id</th>\n",
              "      <th>title</th>\n",
              "      <th>contents</th>\n",
              "      <th>date</th>\n",
              "      <th>topics</th>\n",
              "      <th>components</th>\n",
              "    </tr>\n",
              "  </thead>\n",
              "  <tbody>\n",
              "    <tr>\n",
              "      <th>0</th>\n",
              "      <td>None</td>\n",
              "      <td>Convicted Bomb Plotter Sentenced to 30 Years</td>\n",
              "      <td>PORTLAND, Oregon. – Mohamed Osman Mohamud, 23,...</td>\n",
              "      <td>2014-10-01T00:00:00-04:00</td>\n",
              "      <td>[]</td>\n",
              "      <td>[National Security Division (NSD)]</td>\n",
              "    </tr>\n",
              "    <tr>\n",
              "      <th>1</th>\n",
              "      <td>12-919</td>\n",
              "      <td>$1 Million in Restitution Payments Announced t...</td>\n",
              "      <td>WASHINGTON – North Carolina’s Waccamaw River...</td>\n",
              "      <td>2012-07-25T00:00:00-04:00</td>\n",
              "      <td>[]</td>\n",
              "      <td>[Environment and Natural Resources Division]</td>\n",
              "    </tr>\n",
              "    <tr>\n",
              "      <th>2</th>\n",
              "      <td>11-1002</td>\n",
              "      <td>$1 Million Settlement Reached for Natural Reso...</td>\n",
              "      <td>BOSTON– A $1-million settlement has been...</td>\n",
              "      <td>2011-08-03T00:00:00-04:00</td>\n",
              "      <td>[]</td>\n",
              "      <td>[Environment and Natural Resources Division]</td>\n",
              "    </tr>\n",
              "    <tr>\n",
              "      <th>3</th>\n",
              "      <td>10-015</td>\n",
              "      <td>10 Las Vegas Men Indicted \\r\\nfor Falsifying V...</td>\n",
              "      <td>WASHINGTON—A federal grand jury in Las Vegas...</td>\n",
              "      <td>2010-01-08T00:00:00-05:00</td>\n",
              "      <td>[]</td>\n",
              "      <td>[Environment and Natural Resources Division]</td>\n",
              "    </tr>\n",
              "    <tr>\n",
              "      <th>4</th>\n",
              "      <td>18-898</td>\n",
              "      <td>$100 Million Settlement Will Speed Cleanup Wor...</td>\n",
              "      <td>The U.S. Department of Justice, the U.S. Envir...</td>\n",
              "      <td>2018-07-09T00:00:00-04:00</td>\n",
              "      <td>[Environment]</td>\n",
              "      <td>[Environment and Natural Resources Division]</td>\n",
              "    </tr>\n",
              "  </tbody>\n",
              "</table>\n",
              "</div>"
            ],
            "text/plain": [
              "        id  ...                                    components\n",
              "0     None  ...            [National Security Division (NSD)]\n",
              "1  12-919   ...  [Environment and Natural Resources Division]\n",
              "2  11-1002  ...  [Environment and Natural Resources Division]\n",
              "3   10-015  ...  [Environment and Natural Resources Division]\n",
              "4   18-898  ...  [Environment and Natural Resources Division]\n",
              "\n",
              "[5 rows x 6 columns]"
            ]
          },
          "execution_count": 3,
          "metadata": {
            "tags": []
          },
          "output_type": "execute_result"
        }
      ],
      "source": [
        "add='/content/drive/My Drive/Colab Notebooks/Department of Justice 2009-2018 Press Releases.json'\n",
        "df = pd.read_json(add, lines=True)\n",
        "df.head()"
      ]
    },
    {
      "cell_type": "code",
      "execution_count": null,
      "metadata": {
        "colab": {
          "base_uri": "https://localhost:8080/"
        },
        "id": "-_m2s4Z2dzKU",
        "outputId": "e7aa58e8-1892-4d48-9152-9960df1454fc"
      },
      "outputs": [
        {
          "name": "stdout",
          "output_type": "stream",
          "text": [
            "<class 'pandas.core.frame.DataFrame'>\n",
            "RangeIndex: 13087 entries, 0 to 13086\n",
            "Data columns (total 6 columns):\n",
            " #   Column      Non-Null Count  Dtype \n",
            "---  ------      --------------  ----- \n",
            " 0   id          12810 non-null  object\n",
            " 1   title       13087 non-null  object\n",
            " 2   contents    13087 non-null  object\n",
            " 3   date        13087 non-null  object\n",
            " 4   topics      13087 non-null  object\n",
            " 5   components  13087 non-null  object\n",
            "dtypes: object(6)\n",
            "memory usage: 613.6+ KB\n"
          ]
        }
      ],
      "source": [
        "df.info()"
      ]
    },
    {
      "cell_type": "code",
      "execution_count": null,
      "metadata": {
        "colab": {
          "base_uri": "https://localhost:8080/",
          "height": 204
        },
        "id": "GyaIuAbht0_V",
        "outputId": "57d38e2d-be77-4e67-c858-f87f41b79956"
      },
      "outputs": [
        {
          "data": {
            "text/html": [
              "<div>\n",
              "<style scoped>\n",
              "    .dataframe tbody tr th:only-of-type {\n",
              "        vertical-align: middle;\n",
              "    }\n",
              "\n",
              "    .dataframe tbody tr th {\n",
              "        vertical-align: top;\n",
              "    }\n",
              "\n",
              "    .dataframe thead th {\n",
              "        text-align: right;\n",
              "    }\n",
              "</style>\n",
              "<table border=\"1\" class=\"dataframe\">\n",
              "  <thead>\n",
              "    <tr style=\"text-align: right;\">\n",
              "      <th></th>\n",
              "      <th>id</th>\n",
              "      <th>title</th>\n",
              "      <th>contents</th>\n",
              "      <th>date</th>\n",
              "      <th>topics</th>\n",
              "      <th>components</th>\n",
              "    </tr>\n",
              "  </thead>\n",
              "  <tbody>\n",
              "    <tr>\n",
              "      <th>0</th>\n",
              "      <td>None</td>\n",
              "      <td>Convicted Bomb Plotter Sentenced to 30 Years</td>\n",
              "      <td>PORTLAND, Oregon. – Mohamed Osman Mohamud, 23,...</td>\n",
              "      <td>2014-10-01T00:00:00-04:00</td>\n",
              "      <td>[]</td>\n",
              "      <td>['National Security Division (NSD)']</td>\n",
              "    </tr>\n",
              "    <tr>\n",
              "      <th>1</th>\n",
              "      <td>12-919</td>\n",
              "      <td>$1 Million in Restitution Payments Announced t...</td>\n",
              "      <td>WASHINGTON – North Carolina’s Waccamaw River...</td>\n",
              "      <td>2012-07-25T00:00:00-04:00</td>\n",
              "      <td>[]</td>\n",
              "      <td>['Environment and Natural Resources Division']</td>\n",
              "    </tr>\n",
              "    <tr>\n",
              "      <th>2</th>\n",
              "      <td>11-1002</td>\n",
              "      <td>$1 Million Settlement Reached for Natural Reso...</td>\n",
              "      <td>BOSTON– A $1-million settlement has been...</td>\n",
              "      <td>2011-08-03T00:00:00-04:00</td>\n",
              "      <td>[]</td>\n",
              "      <td>['Environment and Natural Resources Division']</td>\n",
              "    </tr>\n",
              "    <tr>\n",
              "      <th>3</th>\n",
              "      <td>10-015</td>\n",
              "      <td>10 Las Vegas Men Indicted \\r\\nfor Falsifying V...</td>\n",
              "      <td>WASHINGTON—A federal grand jury in Las Vegas...</td>\n",
              "      <td>2010-01-08T00:00:00-05:00</td>\n",
              "      <td>[]</td>\n",
              "      <td>['Environment and Natural Resources Division']</td>\n",
              "    </tr>\n",
              "    <tr>\n",
              "      <th>4</th>\n",
              "      <td>18-898</td>\n",
              "      <td>$100 Million Settlement Will Speed Cleanup Wor...</td>\n",
              "      <td>The U.S. Department of Justice, the U.S. Envir...</td>\n",
              "      <td>2018-07-09T00:00:00-04:00</td>\n",
              "      <td>[Environment]</td>\n",
              "      <td>['Environment and Natural Resources Division']</td>\n",
              "    </tr>\n",
              "  </tbody>\n",
              "</table>\n",
              "</div>"
            ],
            "text/plain": [
              "        id  ...                                      components\n",
              "0     None  ...            ['National Security Division (NSD)']\n",
              "1  12-919   ...  ['Environment and Natural Resources Division']\n",
              "2  11-1002  ...  ['Environment and Natural Resources Division']\n",
              "3   10-015  ...  ['Environment and Natural Resources Division']\n",
              "4   18-898  ...  ['Environment and Natural Resources Division']\n",
              "\n",
              "[5 rows x 6 columns]"
            ]
          },
          "execution_count": 5,
          "metadata": {
            "tags": []
          },
          "output_type": "execute_result"
        }
      ],
      "source": [
        "df['components']=df['components'].astype('string')\n",
        "df.head()"
      ]
    },
    {
      "cell_type": "code",
      "execution_count": null,
      "metadata": {
        "colab": {
          "base_uri": "https://localhost:8080/"
        },
        "id": "zBPmN2D4t3iB",
        "outputId": "7f08a7f8-3c34-4ee6-a83e-1e8702ae9683"
      },
      "outputs": [
        {
          "name": "stdout",
          "output_type": "stream",
          "text": [
            "<class 'pandas.core.frame.DataFrame'>\n",
            "RangeIndex: 13087 entries, 0 to 13086\n",
            "Data columns (total 6 columns):\n",
            " #   Column      Non-Null Count  Dtype \n",
            "---  ------      --------------  ----- \n",
            " 0   id          12810 non-null  object\n",
            " 1   title       13087 non-null  object\n",
            " 2   contents    13087 non-null  object\n",
            " 3   date        13087 non-null  object\n",
            " 4   topics      13087 non-null  object\n",
            " 5   components  13087 non-null  string\n",
            "dtypes: object(5), string(1)\n",
            "memory usage: 613.6+ KB\n"
          ]
        }
      ],
      "source": [
        "df.info()"
      ]
    },
    {
      "cell_type": "code",
      "execution_count": null,
      "metadata": {
        "colab": {
          "base_uri": "https://localhost:8080/"
        },
        "id": "CHYnaxQhh_lL",
        "outputId": "57ca8af8-66dd-4d3f-ea4d-c613264a1dbf"
      },
      "outputs": [
        {
          "data": {
            "text/plain": [
              "['Criminal Division']                                                                                                                    2680\n",
              "['Tax Division']                                                                                                                         1862\n",
              "['Civil Division']                                                                                                                        926\n",
              "['Civil Rights Division']                                                                                                                 862\n",
              "['Office of the Attorney General']                                                                                                        822\n",
              "                                                                                                                                         ... \n",
              "['Civil Rights Division', 'Civil Rights - Special Litigation Section', 'Office of the Attorney General', 'USAO - Illinois, Northern']       1\n",
              "['Civil Rights Division', 'Civil Rights - Voting Section', 'Criminal Division']                                                             1\n",
              "['Civil Rights - Criminal Section', 'Civil Rights - Housing and Civil Enforcement Section', 'Office of the Attorney General']               1\n",
              "['Civil Division', 'USAO - California, Central', 'USAO - New York, Western']                                                                1\n",
              "['Environment and Natural Resources Division', 'USAO - Texas, Southern']                                                                    1\n",
              "Name: components, Length: 810, dtype: Int64"
            ]
          },
          "execution_count": 7,
          "metadata": {
            "tags": []
          },
          "output_type": "execute_result"
        }
      ],
      "source": [
        "df['components'].value_counts()"
      ]
    },
    {
      "cell_type": "code",
      "execution_count": null,
      "metadata": {
        "colab": {
          "base_uri": "https://localhost:8080/"
        },
        "id": "Ph8Btbajh_ff",
        "outputId": "6e5fcd5b-f945-4631-ff10-24329c3e2eb9"
      },
      "outputs": [
        {
          "data": {
            "text/plain": [
              "['Criminal Division']                                                    2680\n",
              "['Tax Division']                                                         1862\n",
              "['Civil Division']                                                        926\n",
              "['Civil Rights Division']                                                 862\n",
              "['Office of the Attorney General']                                        822\n",
              "['Environment and Natural Resources Division']                            798\n",
              "['Antitrust Division']                                                    798\n",
              "['Civil Rights Division', 'Civil Rights - Criminal Section']              554\n",
              "['National Security Division (NSD)']                                      330\n",
              "['Civil Rights Division', 'Civil Rights - Disability Rights Section']     184\n",
              "Name: components, dtype: Int64"
            ]
          },
          "execution_count": 8,
          "metadata": {
            "tags": []
          },
          "output_type": "execute_result"
        }
      ],
      "source": [
        "df['components'].value_counts()[:10]"
      ]
    },
    {
      "cell_type": "code",
      "execution_count": null,
      "metadata": {
        "colab": {
          "base_uri": "https://localhost:8080/",
          "height": 221
        },
        "id": "X4yzhLfikll-",
        "outputId": "34f48d8f-ee11-49f9-e90e-334ed99c0f4a"
      },
      "outputs": [
        {
          "name": "stdout",
          "output_type": "stream",
          "text": [
            "4831\n"
          ]
        },
        {
          "data": {
            "text/html": [
              "<div>\n",
              "<style scoped>\n",
              "    .dataframe tbody tr th:only-of-type {\n",
              "        vertical-align: middle;\n",
              "    }\n",
              "\n",
              "    .dataframe tbody tr th {\n",
              "        vertical-align: top;\n",
              "    }\n",
              "\n",
              "    .dataframe thead th {\n",
              "        text-align: right;\n",
              "    }\n",
              "</style>\n",
              "<table border=\"1\" class=\"dataframe\">\n",
              "  <thead>\n",
              "    <tr style=\"text-align: right;\">\n",
              "      <th></th>\n",
              "      <th>id</th>\n",
              "      <th>title</th>\n",
              "      <th>contents</th>\n",
              "      <th>date</th>\n",
              "      <th>topics</th>\n",
              "      <th>components</th>\n",
              "    </tr>\n",
              "  </thead>\n",
              "  <tbody>\n",
              "    <tr>\n",
              "      <th>0</th>\n",
              "      <td>None</td>\n",
              "      <td>Convicted Bomb Plotter Sentenced to 30 Years</td>\n",
              "      <td>PORTLAND, Oregon. – Mohamed Osman Mohamud, 23,...</td>\n",
              "      <td>2014-10-01T00:00:00-04:00</td>\n",
              "      <td>[]</td>\n",
              "      <td>['National Security Division (NSD)']</td>\n",
              "    </tr>\n",
              "    <tr>\n",
              "      <th>1</th>\n",
              "      <td>12-919</td>\n",
              "      <td>$1 Million in Restitution Payments Announced t...</td>\n",
              "      <td>WASHINGTON – North Carolina’s Waccamaw River...</td>\n",
              "      <td>2012-07-25T00:00:00-04:00</td>\n",
              "      <td>[]</td>\n",
              "      <td>['Environment and Natural Resources Division']</td>\n",
              "    </tr>\n",
              "    <tr>\n",
              "      <th>2</th>\n",
              "      <td>11-1002</td>\n",
              "      <td>$1 Million Settlement Reached for Natural Reso...</td>\n",
              "      <td>BOSTON– A $1-million settlement has been...</td>\n",
              "      <td>2011-08-03T00:00:00-04:00</td>\n",
              "      <td>[]</td>\n",
              "      <td>['Environment and Natural Resources Division']</td>\n",
              "    </tr>\n",
              "    <tr>\n",
              "      <th>3</th>\n",
              "      <td>10-015</td>\n",
              "      <td>10 Las Vegas Men Indicted \\r\\nfor Falsifying V...</td>\n",
              "      <td>WASHINGTON—A federal grand jury in Las Vegas...</td>\n",
              "      <td>2010-01-08T00:00:00-05:00</td>\n",
              "      <td>[]</td>\n",
              "      <td>['Environment and Natural Resources Division']</td>\n",
              "    </tr>\n",
              "    <tr>\n",
              "      <th>4</th>\n",
              "      <td>18-898</td>\n",
              "      <td>$100 Million Settlement Will Speed Cleanup Wor...</td>\n",
              "      <td>The U.S. Department of Justice, the U.S. Envir...</td>\n",
              "      <td>2018-07-09T00:00:00-04:00</td>\n",
              "      <td>[Environment]</td>\n",
              "      <td>['Environment and Natural Resources Division']</td>\n",
              "    </tr>\n",
              "  </tbody>\n",
              "</table>\n",
              "</div>"
            ],
            "text/plain": [
              "        id  ...                                      components\n",
              "0     None  ...            ['National Security Division (NSD)']\n",
              "1  12-919   ...  ['Environment and Natural Resources Division']\n",
              "2  11-1002  ...  ['Environment and Natural Resources Division']\n",
              "3   10-015  ...  ['Environment and Natural Resources Division']\n",
              "4   18-898  ...  ['Environment and Natural Resources Division']\n",
              "\n",
              "[5 rows x 6 columns]"
            ]
          },
          "execution_count": 9,
          "metadata": {
            "tags": []
          },
          "output_type": "execute_result"
        }
      ],
      "source": [
        "x=[\"['Criminal Division']\",\"['Tax Division']\",\"['Civil Division']\",\"['Civil Division']\",\"['Civil Rights Division']\",\"['Antitrust Division']\",\"['Environment and Natural Resources Division']\",\"['Civil Rights Division, Civil Rights - Criminal Section']\",\"['National Security Division (NSD)']\",\"['Civil Rights Division, Civil Rights - Disability Rights Section']\"]\n",
        "index_names = df[(df['components']!=x[0]) & (df['components']!=x[1]) & (df['components']!=x[2]) & (df['components']!=x[3]) & (df['components']!=x[4]) &\n",
        "                  (df['components']!=x[5]) & (df['components']!=x[6]) & (df['components']!=x[7]) & (df['components']!=x[8]) & (df['components']!=x[9]) ].index\n",
        "print(len(index_names))\n",
        "df.drop(index_names, inplace = True)\n",
        "df.head()"
      ]
    },
    {
      "cell_type": "code",
      "execution_count": null,
      "metadata": {
        "colab": {
          "base_uri": "https://localhost:8080/",
          "height": 204
        },
        "id": "_WR5KXzIiODz",
        "outputId": "87cb3248-feaa-4d53-f700-72b7d33d33f1"
      },
      "outputs": [
        {
          "data": {
            "text/html": [
              "<div>\n",
              "<style scoped>\n",
              "    .dataframe tbody tr th:only-of-type {\n",
              "        vertical-align: middle;\n",
              "    }\n",
              "\n",
              "    .dataframe tbody tr th {\n",
              "        vertical-align: top;\n",
              "    }\n",
              "\n",
              "    .dataframe thead th {\n",
              "        text-align: right;\n",
              "    }\n",
              "</style>\n",
              "<table border=\"1\" class=\"dataframe\">\n",
              "  <thead>\n",
              "    <tr style=\"text-align: right;\">\n",
              "      <th></th>\n",
              "      <th>id</th>\n",
              "      <th>title</th>\n",
              "      <th>contents</th>\n",
              "      <th>date</th>\n",
              "      <th>topics</th>\n",
              "      <th>components</th>\n",
              "    </tr>\n",
              "  </thead>\n",
              "  <tbody>\n",
              "    <tr>\n",
              "      <th>0</th>\n",
              "      <td>None</td>\n",
              "      <td>Convicted Bomb Plotter Sentenced to 30 Years</td>\n",
              "      <td>PORTLAND, Oregon. – Mohamed Osman Mohamud, 23,...</td>\n",
              "      <td>2014-10-01T00:00:00-04:00</td>\n",
              "      <td>[]</td>\n",
              "      <td>9</td>\n",
              "    </tr>\n",
              "    <tr>\n",
              "      <th>1</th>\n",
              "      <td>12-919</td>\n",
              "      <td>$1 Million in Restitution Payments Announced t...</td>\n",
              "      <td>WASHINGTON – North Carolina’s Waccamaw River...</td>\n",
              "      <td>2012-07-25T00:00:00-04:00</td>\n",
              "      <td>[]</td>\n",
              "      <td>7</td>\n",
              "    </tr>\n",
              "    <tr>\n",
              "      <th>2</th>\n",
              "      <td>11-1002</td>\n",
              "      <td>$1 Million Settlement Reached for Natural Reso...</td>\n",
              "      <td>BOSTON– A $1-million settlement has been...</td>\n",
              "      <td>2011-08-03T00:00:00-04:00</td>\n",
              "      <td>[]</td>\n",
              "      <td>7</td>\n",
              "    </tr>\n",
              "    <tr>\n",
              "      <th>3</th>\n",
              "      <td>10-015</td>\n",
              "      <td>10 Las Vegas Men Indicted \\r\\nfor Falsifying V...</td>\n",
              "      <td>WASHINGTON—A federal grand jury in Las Vegas...</td>\n",
              "      <td>2010-01-08T00:00:00-05:00</td>\n",
              "      <td>[]</td>\n",
              "      <td>7</td>\n",
              "    </tr>\n",
              "    <tr>\n",
              "      <th>4</th>\n",
              "      <td>18-898</td>\n",
              "      <td>$100 Million Settlement Will Speed Cleanup Wor...</td>\n",
              "      <td>The U.S. Department of Justice, the U.S. Envir...</td>\n",
              "      <td>2018-07-09T00:00:00-04:00</td>\n",
              "      <td>[Environment]</td>\n",
              "      <td>7</td>\n",
              "    </tr>\n",
              "  </tbody>\n",
              "</table>\n",
              "</div>"
            ],
            "text/plain": [
              "        id  ... components\n",
              "0     None  ...          9\n",
              "1  12-919   ...          7\n",
              "2  11-1002  ...          7\n",
              "3   10-015  ...          7\n",
              "4   18-898  ...          7\n",
              "\n",
              "[5 rows x 6 columns]"
            ]
          },
          "execution_count": 10,
          "metadata": {
            "tags": []
          },
          "output_type": "execute_result"
        }
      ],
      "source": [
        "requires = {\"['Criminal Division']\":1,\"['Tax Division']\":2,\"['Civil Division']\":3,\"['Civil Division']\":4,\"['Civil Rights Division']\":5,\"['Antitrust Division']\":6,\"['Environment and Natural Resources Division']\":7,\"['Civil Rights Division, Civil Rights - Criminal Section']\":8,\"['National Security Division (NSD)']\":9,\"['Civil Rights Division, Civil Rights - Disability Rights Section']\":10}\n",
        "df['components']=df['components'].replace(requires)\n",
        "df.head()"
      ]
    },
    {
      "cell_type": "code",
      "execution_count": null,
      "metadata": {
        "id": "02URH17idzHp"
      },
      "outputs": [],
      "source": [
        "def toLower(sentence):\n",
        "    return sentence.lower()\n",
        "\n",
        "def tokenizer(sentence):\n",
        "    tokens = list(set(nltk.word_tokenize(sentence)))\n",
        "    return tokens\n",
        "\n",
        "def stopwords_removal(tokens):\n",
        "    stop_words = nltk.corpus.stopwords.words('english')\n",
        "    stop_words.extend([',','?','\"\"',\"''\",'.','!', \"'\",'\"',\"'d\",\"'ll\",'[',']','--',':',';','///','@', '``',\n",
        "                       '#', '$', '%', '&', \"'re\", \"'s\", '(', ')', '*', '**', '**the', '-', '/', '//',\n",
        "                       '§', '§§','...','–', '—', '‘', '’', '“', '”', '•', '─',\"'m\", \"'ve\", '***'])\n",
        "    filtered_tokens = [i for i in tokens if not i in stop_words]\n",
        "    return filtered_tokens\n",
        "\n",
        "def stemming(tokens):\n",
        "    stemmer = nltk.stem.porter.PorterStemmer()\n",
        "    stemmed_tokens = [stemmer.stem(i) for i in tokens]\n",
        "    return stemmed_tokens\n",
        "\n",
        "def pre_process(text):\n",
        "    tokens = [word for sent in nltk.sent_tokenize(text) for word in nltk.word_tokenize(sent)]\n",
        "    tokens = stopwords_removal(tokens)\n",
        "    stems = stemming(tokens)\n",
        "    return stems"
      ]
    },
    {
      "cell_type": "code",
      "execution_count": null,
      "metadata": {
        "colab": {
          "base_uri": "https://localhost:8080/"
        },
        "id": "TYNpHv7BfgKD",
        "outputId": "0f84d964-f7f4-4f7a-c5e6-68f5707a6f21"
      },
      "outputs": [
        {
          "data": {
            "text/plain": [
              "0        [portland, oregon, moham, osman, mohamud, 23, ...\n",
              "1        [washington, north, carolina, waccamaw, river,...\n",
              "2        [boston–, A, 1-million, settlement, reach, nat...\n",
              "3        [washington—a, feder, grand, juri, la, vega, t...\n",
              "4        [the, u.s., depart, justic, u.s., environment,...\n",
              "                               ...                        \n",
              "13074    [the, depart, justic, u.s., environment, prote...\n",
              "13075    [yamada, manufactur, co., ltd., agre, plead, g...\n",
              "13076    [washington, two, japanes, supplier, automot, ...\n",
              "13077    [washington, An, execut, tokyo-bas, yazaki, co...\n",
              "13082    [the, depart, justic, u.s., environment, prote...\n",
              "Name: contents, Length: 8256, dtype: object"
            ]
          },
          "execution_count": 12,
          "metadata": {
            "tags": []
          },
          "output_type": "execute_result"
        }
      ],
      "source": [
        "df['contents']=df['contents'].apply(pre_process)\n",
        "df['contents']"
      ]
    },
    {
      "cell_type": "code",
      "execution_count": null,
      "metadata": {
        "id": "ORKiKUuPu5UL"
      },
      "outputs": [],
      "source": [
        "df.reset_index(inplace = True)\n",
        "del ( df['index'])"
      ]
    },
    {
      "cell_type": "code",
      "execution_count": null,
      "metadata": {
        "colab": {
          "base_uri": "https://localhost:8080/",
          "height": 419
        },
        "id": "oZZSfe7j05Oh",
        "outputId": "e88fec41-d0c6-4812-ea4c-7199defdbecd"
      },
      "outputs": [
        {
          "data": {
            "text/html": [
              "<div>\n",
              "<style scoped>\n",
              "    .dataframe tbody tr th:only-of-type {\n",
              "        vertical-align: middle;\n",
              "    }\n",
              "\n",
              "    .dataframe tbody tr th {\n",
              "        vertical-align: top;\n",
              "    }\n",
              "\n",
              "    .dataframe thead th {\n",
              "        text-align: right;\n",
              "    }\n",
              "</style>\n",
              "<table border=\"1\" class=\"dataframe\">\n",
              "  <thead>\n",
              "    <tr style=\"text-align: right;\">\n",
              "      <th></th>\n",
              "      <th>id</th>\n",
              "      <th>title</th>\n",
              "      <th>contents</th>\n",
              "      <th>date</th>\n",
              "      <th>topics</th>\n",
              "      <th>components</th>\n",
              "    </tr>\n",
              "  </thead>\n",
              "  <tbody>\n",
              "    <tr>\n",
              "      <th>0</th>\n",
              "      <td>None</td>\n",
              "      <td>Convicted Bomb Plotter Sentenced to 30 Years</td>\n",
              "      <td>[portland, oregon, moham, osman, mohamud, 23, ...</td>\n",
              "      <td>2014-10-01T00:00:00-04:00</td>\n",
              "      <td>[]</td>\n",
              "      <td>9</td>\n",
              "    </tr>\n",
              "    <tr>\n",
              "      <th>1</th>\n",
              "      <td>12-919</td>\n",
              "      <td>$1 Million in Restitution Payments Announced t...</td>\n",
              "      <td>[washington, north, carolina, waccamaw, river,...</td>\n",
              "      <td>2012-07-25T00:00:00-04:00</td>\n",
              "      <td>[]</td>\n",
              "      <td>7</td>\n",
              "    </tr>\n",
              "    <tr>\n",
              "      <th>2</th>\n",
              "      <td>11-1002</td>\n",
              "      <td>$1 Million Settlement Reached for Natural Reso...</td>\n",
              "      <td>[boston–, A, 1-million, settlement, reach, nat...</td>\n",
              "      <td>2011-08-03T00:00:00-04:00</td>\n",
              "      <td>[]</td>\n",
              "      <td>7</td>\n",
              "    </tr>\n",
              "    <tr>\n",
              "      <th>3</th>\n",
              "      <td>10-015</td>\n",
              "      <td>10 Las Vegas Men Indicted \\r\\nfor Falsifying V...</td>\n",
              "      <td>[washington—a, feder, grand, juri, la, vega, t...</td>\n",
              "      <td>2010-01-08T00:00:00-05:00</td>\n",
              "      <td>[]</td>\n",
              "      <td>7</td>\n",
              "    </tr>\n",
              "    <tr>\n",
              "      <th>4</th>\n",
              "      <td>18-898</td>\n",
              "      <td>$100 Million Settlement Will Speed Cleanup Wor...</td>\n",
              "      <td>[the, u.s., depart, justic, u.s., environment,...</td>\n",
              "      <td>2018-07-09T00:00:00-04:00</td>\n",
              "      <td>[Environment]</td>\n",
              "      <td>7</td>\n",
              "    </tr>\n",
              "    <tr>\n",
              "      <th>...</th>\n",
              "      <td>...</td>\n",
              "      <td>...</td>\n",
              "      <td>...</td>\n",
              "      <td>...</td>\n",
              "      <td>...</td>\n",
              "      <td>...</td>\n",
              "    </tr>\n",
              "    <tr>\n",
              "      <th>8251</th>\n",
              "      <td>14-1454</td>\n",
              "      <td>XTO Energy Inc. to Restore Areas Damaged by Na...</td>\n",
              "      <td>[the, depart, justic, u.s., environment, prote...</td>\n",
              "      <td>2014-12-22T00:00:00-05:00</td>\n",
              "      <td>[]</td>\n",
              "      <td>7</td>\n",
              "    </tr>\n",
              "    <tr>\n",
              "      <th>8252</th>\n",
              "      <td>15-525</td>\n",
              "      <td>Yamada Manufacturing Co. Agrees to Plead Guilt...</td>\n",
              "      <td>[yamada, manufactur, co., ltd., agre, plead, g...</td>\n",
              "      <td>2015-04-28T00:00:00-04:00</td>\n",
              "      <td>[Antitrust]</td>\n",
              "      <td>6</td>\n",
              "    </tr>\n",
              "    <tr>\n",
              "      <th>8253</th>\n",
              "      <td>12-128</td>\n",
              "      <td>Yazaki Corp., Denso Corp. and Four Yazaki Exec...</td>\n",
              "      <td>[washington, two, japanes, supplier, automot, ...</td>\n",
              "      <td>2012-01-30T00:00:00-05:00</td>\n",
              "      <td>[]</td>\n",
              "      <td>6</td>\n",
              "    </tr>\n",
              "    <tr>\n",
              "      <th>8254</th>\n",
              "      <td>12-1013</td>\n",
              "      <td>Yazaki Executive Agrees to Plead Guilty to Pri...</td>\n",
              "      <td>[washington, An, execut, tokyo-bas, yazaki, co...</td>\n",
              "      <td>2012-08-16T00:00:00-04:00</td>\n",
              "      <td>[]</td>\n",
              "      <td>6</td>\n",
              "    </tr>\n",
              "    <tr>\n",
              "      <th>8255</th>\n",
              "      <td>16-735</td>\n",
              "      <td>Yuengling to Upgrade Environmental Measures to...</td>\n",
              "      <td>[the, depart, justic, u.s., environment, prote...</td>\n",
              "      <td>2016-06-23T00:00:00-04:00</td>\n",
              "      <td>[Environment]</td>\n",
              "      <td>7</td>\n",
              "    </tr>\n",
              "  </tbody>\n",
              "</table>\n",
              "<p>8256 rows × 6 columns</p>\n",
              "</div>"
            ],
            "text/plain": [
              "           id  ... components\n",
              "0        None  ...          9\n",
              "1     12-919   ...          7\n",
              "2     11-1002  ...          7\n",
              "3      10-015  ...          7\n",
              "4      18-898  ...          7\n",
              "...       ...  ...        ...\n",
              "8251  14-1454  ...          7\n",
              "8252   15-525  ...          6\n",
              "8253   12-128  ...          6\n",
              "8254  12-1013  ...          6\n",
              "8255   16-735  ...          7\n",
              "\n",
              "[8256 rows x 6 columns]"
            ]
          },
          "execution_count": 14,
          "metadata": {
            "tags": []
          },
          "output_type": "execute_result"
        }
      ],
      "source": [
        "df"
      ]
    },
    {
      "cell_type": "code",
      "execution_count": null,
      "metadata": {
        "id": "f5SpALYWfgGV"
      },
      "outputs": [],
      "source": [
        "tokenizer = tf.keras.preprocessing.text.Tokenizer(filters='!\"#$%&()*+,-./:;<=>?@[\\\\]^_`{|}~\\t\\n',lower=True, split=' ', char_level=False, oov_token='<oov>',)\n",
        "tokenizer.fit_on_texts(list(df['contents']))"
      ]
    },
    {
      "cell_type": "code",
      "execution_count": null,
      "metadata": {
        "colab": {
          "base_uri": "https://localhost:8080/"
        },
        "id": "lbydXgsIfgEB",
        "outputId": "75c3dd50-d4d0-47d5-e5b0-b37e668c19ef"
      },
      "outputs": [
        {
          "name": "stdout",
          "output_type": "stream",
          "text": [
            "Longest sentence length :-  2506\n",
            "Number of  unique tokens :- 48507\n"
          ]
        }
      ],
      "source": [
        "sequences = tokenizer.texts_to_sequences(list(df['contents']))\n",
        "max=np.max([len(sequence) for sequence in sequences])\n",
        "print(\"Longest sentence length :- \",max)\n",
        "word_index = tokenizer.word_index\n",
        "print('Number of  unique tokens :- %s' % len(word_index))"
      ]
    },
    {
      "cell_type": "code",
      "execution_count": null,
      "metadata": {
        "colab": {
          "base_uri": "https://localhost:8080/"
        },
        "id": "0h6MlVcnfrZd",
        "outputId": "8c6ea1d6-4859-4419-e553-65954835b247"
      },
      "outputs": [
        {
          "name": "stdout",
          "output_type": "stream",
          "text": [
            "(8256, 2506)\n"
          ]
        }
      ],
      "source": [
        "data = tf.keras.preprocessing.sequence.pad_sequences(sequences, maxlen=max, dtype='int32', padding='pre',truncating='pre', value=0.0)\n",
        "print(data.shape)"
      ]
    },
    {
      "cell_type": "code",
      "execution_count": null,
      "metadata": {
        "id": "xsAouB6ofrWC"
      },
      "outputs": [],
      "source": [
        "labels = tf.keras.utils.to_categorical(df['components'])"
      ]
    },
    {
      "cell_type": "code",
      "execution_count": null,
      "metadata": {
        "id": "KoWgf0bahOx7"
      },
      "outputs": [],
      "source": [
        "X_train, X_test, Y_train, Y_test = train_test_split(data, labels, test_size=0.25, random_state=14)"
      ]
    },
    {
      "cell_type": "code",
      "execution_count": null,
      "metadata": {
        "id": "OwEx39QnhOuh"
      },
      "outputs": [],
      "source": [
        "model=Sequential()\n",
        "model.add(Embedding(len(word_index)+1,64,input_length=max))\n",
        "model.add(LSTM(256,return_sequences=False))\n",
        "model.add(Dropout(0.25))\n",
        "model.add(Dense(1024,activation='relu'))\n",
        "model.add(Dense(10,activation='softmax'))"
      ]
    },
    {
      "cell_type": "code",
      "execution_count": null,
      "metadata": {
        "id": "ICPXWUSmhOsj"
      },
      "outputs": [],
      "source": [
        "model.compile(loss='categorical_crossentropy',optimizer='adam',metrics=['accuracy'])"
      ]
    },
    {
      "cell_type": "code",
      "execution_count": null,
      "metadata": {
        "colab": {
          "base_uri": "https://localhost:8080/"
        },
        "id": "XnFvcxEMifNX",
        "outputId": "a3876fa9-45bd-41fb-d4e8-d5583738a571"
      },
      "outputs": [
        {
          "name": "stdout",
          "output_type": "stream",
          "text": [
            "Epoch 1/35\n",
            "49/49 [==============================] - 31s 575ms/step - loss: 1.9291 - accuracy: 0.3717 - val_loss: 0.9324 - val_accuracy: 0.6526\n",
            "Epoch 2/35\n",
            "49/49 [==============================] - 27s 557ms/step - loss: 0.6315 - accuracy: 0.7737 - val_loss: 0.2639 - val_accuracy: 0.9230\n",
            "Epoch 3/35\n",
            "49/49 [==============================] - 27s 562ms/step - loss: 0.1587 - accuracy: 0.9540 - val_loss: 0.1937 - val_accuracy: 0.9530\n",
            "Epoch 4/35\n",
            "49/49 [==============================] - 28s 563ms/step - loss: 0.0874 - accuracy: 0.9811 - val_loss: 0.1651 - val_accuracy: 0.9632\n",
            "Epoch 5/35\n",
            "49/49 [==============================] - 28s 564ms/step - loss: 0.0798 - accuracy: 0.9851 - val_loss: 0.2466 - val_accuracy: 0.9312\n",
            "Epoch 6/35\n",
            "49/49 [==============================] - 27s 560ms/step - loss: 0.1130 - accuracy: 0.9709 - val_loss: 0.2270 - val_accuracy: 0.9583\n",
            "Epoch 7/35\n",
            "49/49 [==============================] - 27s 561ms/step - loss: 0.0413 - accuracy: 0.9889 - val_loss: 0.1976 - val_accuracy: 0.9564\n",
            "Epoch 8/35\n",
            "49/49 [==============================] - 27s 561ms/step - loss: 0.0370 - accuracy: 0.9893 - val_loss: 0.1735 - val_accuracy: 0.9617\n",
            "Epoch 9/35\n",
            "49/49 [==============================] - 28s 563ms/step - loss: 0.0369 - accuracy: 0.9894 - val_loss: 0.1809 - val_accuracy: 0.9588\n",
            "Epoch 10/35\n",
            "47/49 [===========================>..] - ETA: 1s - loss: 0.0236 - accuracy: 0.9937"
          ]
        }
      ],
      "source": [
        "model.fit(X_train,Y_train,batch_size=128,epochs=35,validation_data=(X_test,Y_test))"
      ]
    },
    {
      "cell_type": "code",
      "execution_count": null,
      "metadata": {
        "id": "8bkzirZ2ifJ8"
      },
      "outputs": [],
      "source": []
    }
  ],
  "metadata": {
    "accelerator": "GPU",
    "colab": {
      "provenance": []
    },
    "kernelspec": {
      "display_name": "Python 3",
      "language": "python",
      "name": "python3"
    },
    "language_info": {
      "codemirror_mode": {
        "name": "ipython",
        "version": 3
      },
      "file_extension": ".py",
      "mimetype": "text/x-python",
      "name": "python",
      "nbconvert_exporter": "python",
      "pygments_lexer": "ipython3",
      "version": "3.7.6"
    }
  },
  "nbformat": 4,
  "nbformat_minor": 0
}